{
  "nbformat": 4,
  "nbformat_minor": 0,
  "metadata": {
    "colab": {
      "provenance": []
    },
    "kernelspec": {
      "name": "python3",
      "display_name": "Python 3"
    },
    "language_info": {
      "name": "python"
    }
  },
  "cells": [
    {
      "cell_type": "code",
      "execution_count": null,
      "metadata": {
        "id": "htbQEG5UkTrI"
      },
      "outputs": [],
      "source": [
        "import pandas as pd\n",
        "import numpy as np\n",
        "import matplotlib.pyplot as plt"
      ]
    },
    {
      "cell_type": "markdown",
      "source": [
        "OK, before any thing, lets make sure you understand something... then move on:"
      ],
      "metadata": {
        "id": "dWOYjmqdVqsm"
      }
    },
    {
      "cell_type": "code",
      "source": [
        "g=np.arange(0,10,2) # Lets create a,n array\n",
        "g"
      ],
      "metadata": {
        "id": "49oZNXQXVyEZ"
      },
      "execution_count": null,
      "outputs": []
    },
    {
      "cell_type": "code",
      "source": [
        "g=g.reshape(1,5,1) # reshape to higher dimentions\n",
        "g"
      ],
      "metadata": {
        "id": "WDlSrPIwVyAw"
      },
      "execution_count": null,
      "outputs": []
    },
    {
      "cell_type": "code",
      "source": [
        "b=np.array([22])  # Single array number\n",
        "b.shape"
      ],
      "metadata": {
        "id": "0fffh72HVx9G"
      },
      "execution_count": null,
      "outputs": []
    },
    {
      "cell_type": "code",
      "source": [
        "#Now lets add b to the end of g and get rid of the first element in g\n",
        "\n",
        "g=np.append(g[:,1:,:],[[b]],axis=1)\n",
        "g"
      ],
      "metadata": {
        "id": "M_ZwXKy1Vxxo"
      },
      "execution_count": null,
      "outputs": []
    },
    {
      "cell_type": "markdown",
      "source": [
        "OK, Now that you understood this, Continue...."
      ],
      "metadata": {
        "id": "cUoJVoI-Wgp1"
      }
    },
    {
      "cell_type": "code",
      "source": [
        "df=pd.read_csv('/content/Alcohol_Sales.csv',index_col='DATE',parse_dates=True)"
      ],
      "metadata": {
        "id": "mswE4fMnkgVQ"
      },
      "execution_count": null,
      "outputs": []
    },
    {
      "cell_type": "code",
      "source": [
        "df.index.freq='MS'"
      ],
      "metadata": {
        "id": "j6VLt5WVobng"
      },
      "execution_count": null,
      "outputs": []
    },
    {
      "cell_type": "code",
      "source": [
        "df.head()"
      ],
      "metadata": {
        "id": "udF0eDLKoVf-"
      },
      "execution_count": null,
      "outputs": []
    },
    {
      "cell_type": "code",
      "source": [
        "df.columns=['Sales']"
      ],
      "metadata": {
        "id": "SNHG_EKCoXCg"
      },
      "execution_count": null,
      "outputs": []
    },
    {
      "cell_type": "code",
      "source": [
        "df.plot()"
      ],
      "metadata": {
        "id": "HC8H_k3HorIF"
      },
      "execution_count": null,
      "outputs": []
    },
    {
      "cell_type": "code",
      "source": [
        "from statsmodels.tsa.seasonal import seasonal_decompose"
      ],
      "metadata": {
        "id": "yqhq3_9Houkb"
      },
      "execution_count": null,
      "outputs": []
    },
    {
      "cell_type": "code",
      "source": [
        "results=seasonal_decompose(df['Sales'])"
      ],
      "metadata": {
        "id": "MAcTtrZao47a"
      },
      "execution_count": null,
      "outputs": []
    },
    {
      "cell_type": "code",
      "source": [
        "results.plot();"
      ],
      "metadata": {
        "id": "6VYuLIEyo_ZR"
      },
      "execution_count": null,
      "outputs": []
    },
    {
      "cell_type": "code",
      "source": [
        "results.seasonal.plot(figsize=(12,8))"
      ],
      "metadata": {
        "id": "e2zkBoIUpEus"
      },
      "execution_count": null,
      "outputs": []
    },
    {
      "cell_type": "markdown",
      "source": [
        "# Our goal is to forecast 1 year into future"
      ],
      "metadata": {
        "id": "zjMDKD4dpYpz"
      }
    },
    {
      "cell_type": "code",
      "source": [
        "# So how long is our data?"
      ],
      "metadata": {
        "id": "jHuSRaq6pxuO"
      },
      "execution_count": null,
      "outputs": []
    },
    {
      "cell_type": "code",
      "source": [
        "df.shape"
      ],
      "metadata": {
        "id": "USEqcThup0PH"
      },
      "execution_count": null,
      "outputs": []
    },
    {
      "cell_type": "code",
      "source": [
        "#Thats 325 months, and we want 12 months"
      ],
      "metadata": {
        "id": "OyLh-9zbp1Ag"
      },
      "execution_count": null,
      "outputs": []
    },
    {
      "cell_type": "code",
      "source": [
        "325-12\n"
      ],
      "metadata": {
        "id": "aPmlb3xUp6g8"
      },
      "execution_count": null,
      "outputs": []
    },
    {
      "cell_type": "code",
      "source": [
        "train=df.iloc[:313]\n",
        "test=df.iloc[313:]"
      ],
      "metadata": {
        "id": "Nulrtemtp7-s"
      },
      "execution_count": null,
      "outputs": []
    },
    {
      "cell_type": "code",
      "source": [
        "test.shape"
      ],
      "metadata": {
        "id": "RoLT0AjOqIRI"
      },
      "execution_count": null,
      "outputs": []
    },
    {
      "cell_type": "code",
      "source": [
        "from sklearn.preprocessing import MinMaxScaler"
      ],
      "metadata": {
        "id": "P7TRKjt_qK0L"
      },
      "execution_count": null,
      "outputs": []
    },
    {
      "cell_type": "code",
      "source": [
        "scaler=MinMaxScaler()"
      ],
      "metadata": {
        "id": "yF6LIerYqulu"
      },
      "execution_count": null,
      "outputs": []
    },
    {
      "cell_type": "code",
      "source": [
        "scaler.fit(train)   # Basically its locating the max value in the proposed data"
      ],
      "metadata": {
        "id": "Jc5HL5ZNqyw8"
      },
      "execution_count": null,
      "outputs": []
    },
    {
      "cell_type": "code",
      "source": [
        "scaled_train=scaler.transform(train)\n",
        "scaled_test=scaler.transform(test)"
      ],
      "metadata": {
        "id": "fOrvfOQHq9Jn"
      },
      "execution_count": null,
      "outputs": []
    },
    {
      "cell_type": "markdown",
      "source": [
        "#Now lets go with the time series generator from Tenmsorflow"
      ],
      "metadata": {
        "id": "L8VZDXJGrfC0"
      }
    },
    {
      "cell_type": "code",
      "source": [
        "import tensorflow as tf"
      ],
      "metadata": {
        "id": "QiifHqlHsWfW"
      },
      "execution_count": null,
      "outputs": []
    },
    {
      "cell_type": "code",
      "source": [
        "from tensorflow.keras.preprocessing.sequence import TimeseriesGenerator"
      ],
      "metadata": {
        "id": "2U-biA9Gr5Dp"
      },
      "execution_count": null,
      "outputs": []
    },
    {
      "cell_type": "code",
      "source": [
        "n_input=3\n",
        "n_feature=1"
      ],
      "metadata": {
        "id": "bRKDGrPRsVVV"
      },
      "execution_count": null,
      "outputs": []
    },
    {
      "cell_type": "code",
      "source": [
        "generator=TimeseriesGenerator(scaled_train,scaled_train,length=n_input,batch_size=1)#  We are saying the source of data and its lbel are from scaled train"
      ],
      "metadata": {
        "id": "uZI8ovKms7tT"
      },
      "execution_count": null,
      "outputs": []
    },
    {
      "cell_type": "code",
      "source": [
        "generator[0]"
      ],
      "metadata": {
        "id": "VTdCLnYCtkqI"
      },
      "execution_count": null,
      "outputs": []
    },
    {
      "cell_type": "code",
      "source": [
        "# Do you agree, we had a tuple here?"
      ],
      "metadata": {
        "id": "fVVhvz4-tvw2"
      },
      "execution_count": null,
      "outputs": []
    },
    {
      "cell_type": "code",
      "source": [
        "X,y=generator[0]"
      ],
      "metadata": {
        "id": "-aUif4Detz_u"
      },
      "execution_count": null,
      "outputs": []
    },
    {
      "cell_type": "code",
      "source": [
        "X"
      ],
      "metadata": {
        "id": "EblPEm7nt3ZY"
      },
      "execution_count": null,
      "outputs": []
    },
    {
      "cell_type": "code",
      "source": [
        "y"
      ],
      "metadata": {
        "id": "CM60lTjht3_R"
      },
      "execution_count": null,
      "outputs": []
    },
    {
      "cell_type": "markdown",
      "source": [
        "# Now regarding our data"
      ],
      "metadata": {
        "id": "l7J6QaNgt4ZT"
      }
    },
    {
      "cell_type": "code",
      "source": [
        "n_input=12\n",
        "n_feature=1\n",
        "\n",
        "train_generator=TimeseriesGenerator(scaled_train,scaled_train,length=n_input,batch_size=1)"
      ],
      "metadata": {
        "id": "S8add71ouded"
      },
      "execution_count": null,
      "outputs": []
    },
    {
      "cell_type": "code",
      "source": [
        "from keras.models import Sequential\n",
        "from keras.layers import Dense\n",
        "from keras.layers import LSTM"
      ],
      "metadata": {
        "id": "uApDX7xOCa2_"
      },
      "execution_count": null,
      "outputs": []
    },
    {
      "cell_type": "code",
      "source": [
        "model=Sequential()  # Sequential way\n",
        "model.add(LSTM(180,activation='relu',input_shape=(n_input,n_feature)))\n",
        "model.add(Dense(1))"
      ],
      "metadata": {
        "id": "WPC7ZG9bCmbC"
      },
      "execution_count": null,
      "outputs": []
    },
    {
      "cell_type": "code",
      "source": [
        "from tensorflow.keras.models import Model  # Functional Way, as I like it\n",
        "from tensorflow.keras.layers import Input, LSTM, Dense\n",
        "\n",
        "\n",
        "# Functional API\n",
        "input_layer = Input(shape=(n_input, n_feature), name=\"Input_Layer\")  # Input layer\n",
        "x = LSTM(180, activation='relu', name=\"LSTM_Layer\")(input_layer)     # LSTM layer\n",
        "output_layer = Dense(1, name=\"Output_Layer\")(x)                      # Output layer\n",
        "\n",
        "# Create the model\n",
        "model = Model(inputs=input_layer, outputs=output_layer, name=\"Functional_LSTM_Model\")"
      ],
      "metadata": {
        "id": "9pFbWC4vDeWR"
      },
      "execution_count": null,
      "outputs": []
    },
    {
      "cell_type": "code",
      "source": [
        "# Giving the model life, Compile the model\n",
        "model.compile(optimizer=tf.keras.optimizers.Adam(learning_rate=0.001), loss='mse')"
      ],
      "metadata": {
        "id": "D6wwpGfFEDTN"
      },
      "execution_count": null,
      "outputs": []
    },
    {
      "cell_type": "code",
      "source": [
        "model.fit(train_generator,epochs=25)"
      ],
      "metadata": {
        "id": "1NDoy3IoEMac"
      },
      "execution_count": null,
      "outputs": []
    },
    {
      "cell_type": "code",
      "source": [
        "model.history.history.plot()"
      ],
      "metadata": {
        "id": "BgGepc34GDyj"
      },
      "execution_count": null,
      "outputs": []
    },
    {
      "cell_type": "code",
      "source": [
        "#Lets see how it did?"
      ],
      "metadata": {
        "id": "b-k5xStUGuiz"
      },
      "execution_count": null,
      "outputs": []
    },
    {
      "cell_type": "code",
      "source": [
        "# We see 12 steps and predict the 13 motnhs"
      ],
      "metadata": {
        "id": "DEVDSarbGw1L"
      },
      "execution_count": null,
      "outputs": []
    },
    {
      "cell_type": "code",
      "source": [
        "first_real_batch=scaled_train[-12:]"
      ],
      "metadata": {
        "id": "96324Q6CG1Ec"
      },
      "execution_count": null,
      "outputs": []
    },
    {
      "cell_type": "code",
      "source": [
        "first_real_batch"
      ],
      "metadata": {
        "id": "Oc4G2dlJHDsu"
      },
      "execution_count": null,
      "outputs": []
    },
    {
      "cell_type": "code",
      "source": [
        "first_real_batch.shape"
      ],
      "metadata": {
        "id": "X8vtq30-HE3u"
      },
      "execution_count": null,
      "outputs": []
    },
    {
      "cell_type": "code",
      "source": [
        "first_real_batch=first_real_batch.reshape(1,12,1)"
      ],
      "metadata": {
        "id": "lOIx4txBHXrw"
      },
      "execution_count": null,
      "outputs": []
    },
    {
      "cell_type": "code",
      "source": [
        "first_real_batch.shape"
      ],
      "metadata": {
        "id": "CErZV0D-HeTm"
      },
      "execution_count": null,
      "outputs": []
    },
    {
      "cell_type": "markdown",
      "source": [
        "Now, lets predict"
      ],
      "metadata": {
        "id": "fzJ9SHU0Hpef"
      }
    },
    {
      "cell_type": "code",
      "source": [
        "model.predict(first_real_batch)"
      ],
      "metadata": {
        "id": "fZ8QcLMHICIN"
      },
      "execution_count": null,
      "outputs": []
    },
    {
      "cell_type": "code",
      "source": [
        "first_eval_batch.shape"
      ],
      "metadata": {
        "id": "Jy8rmKEpMsAT"
      },
      "execution_count": null,
      "outputs": []
    },
    {
      "cell_type": "code",
      "source": [
        "test_preds=[]  # storing our prediction\n",
        "\n",
        "first_eval_batch=scaled_train[-n_input:]  #  [-12:]\n",
        "\n",
        "current_batch=first_real_batch\n",
        "\n",
        "for i in range(len(test)):  #  This len(test)  can be your choice as into steps in future\n",
        "\n",
        "  spot_pred=model.predict(current_batch)[0]\n",
        "\n",
        "  test_preds.append(spot_pred)\n",
        "\n",
        "  current_batch=np.append(current_batch[:,1:,:],[[spot_pred]],axis=1)\n",
        "\n",
        "\n"
      ],
      "metadata": {
        "id": "-H6yz_suIHMh"
      },
      "execution_count": null,
      "outputs": []
    },
    {
      "cell_type": "code",
      "source": [
        "preds=scaler.inverse_transform(test_preds)"
      ],
      "metadata": {
        "id": "9qBNM7ioMGsV"
      },
      "execution_count": null,
      "outputs": []
    },
    {
      "cell_type": "code",
      "source": [
        "test"
      ],
      "metadata": {
        "id": "g0c1OuuVP0Ff"
      },
      "execution_count": null,
      "outputs": []
    },
    {
      "cell_type": "code",
      "source": [
        "test.loc[:, 'LSTM_preds'] = np.round(preds,1)"
      ],
      "metadata": {
        "id": "yTT5MKylP4R5"
      },
      "execution_count": null,
      "outputs": []
    },
    {
      "cell_type": "code",
      "source": [
        "test"
      ],
      "metadata": {
        "id": "2Z2Ujj4wP_LX"
      },
      "execution_count": null,
      "outputs": []
    },
    {
      "cell_type": "code",
      "source": [
        "test.plot()"
      ],
      "metadata": {
        "id": "6GUVwNuAQHgl"
      },
      "execution_count": null,
      "outputs": []
    },
    {
      "cell_type": "code",
      "source": [
        "plt.figure(figsize=(20, 8))\n",
        "\n",
        "# Plot the training data\n",
        "plt.plot(train.index, train, label=\"Training Data\", color=\"blue\")\n",
        "\n",
        "# Plot the real values in the test set\n",
        "plt.plot(test.index, test['Sales'], label=\"Real Values\", color=\"green\")\n",
        "\n",
        "# Plot the LSTM predictions\n",
        "plt.plot(test.index, test['LSTM_preds'], label=\"LSTM Predictions\", color=\"red\")\n",
        "\n",
        "# Add labels, title, and legend\n",
        "plt.xlabel(\"Date\", fontsize=14)\n",
        "plt.ylabel(\"Wine Price\", fontsize=14)\n",
        "plt.title(\"Time Series: Wine Prices and LSTM Predictions\", fontsize=16)\n",
        "plt.legend(fontsize=12)"
      ],
      "metadata": {
        "id": "HNYCK7jUQsXd"
      },
      "execution_count": null,
      "outputs": []
    },
    {
      "cell_type": "code",
      "source": [
        "test.index"
      ],
      "metadata": {
        "id": "u7XVmkyOULEL"
      },
      "execution_count": null,
      "outputs": []
    },
    {
      "cell_type": "code",
      "source": [
        "train_filtered = train['2012-01-01':'2018-01-01']\n",
        "test_filtered = test['2018-02-01':'2019-01-01']"
      ],
      "metadata": {
        "id": "jYA1x64pRFUY"
      },
      "execution_count": null,
      "outputs": []
    },
    {
      "cell_type": "code",
      "source": [
        "plt.figure(figsize=(20, 8))\n",
        "plt.plot(train_filtered, label=\"Training Data\")\n",
        "plt.plot(test_filtered['Sales'], label=\"Real Values\")\n",
        "plt.plot(test_filtered['LSTM_preds'], label=\"LSTM Predictions\")\n",
        "plt.xlabel(\"Date\")\n",
        "plt.ylabel(\"Wine Price\")\n",
        "plt.title(\"Filtered Time Series: Wine Prices and LSTM Predictions\")\n",
        "plt.legend()\n",
        "plt.grid(True)\n",
        "plt.show()"
      ],
      "metadata": {
        "id": "GMZubpJAUxFr"
      },
      "execution_count": null,
      "outputs": []
    },
    {
      "cell_type": "code",
      "source": [],
      "metadata": {
        "id": "bq2HIjmQUxlc"
      },
      "execution_count": null,
      "outputs": []
    }
  ]
}